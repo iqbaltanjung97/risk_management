{
 "cells": [
  {
   "cell_type": "markdown",
   "id": "ac596268",
   "metadata": {},
   "source": [
    "### Laporan Keuangan Konsolidasian"
   ]
  },
  {
   "cell_type": "code",
   "execution_count": 4,
   "id": "f579123a",
   "metadata": {},
   "outputs": [
    {
     "name": "stdout",
     "output_type": "stream",
     "text": [
      "Jumlah baris dan kolom: (14, 7)\n",
      "\n",
      "Kolom yang tersedia: ['Unnamed: 0', '2024', '2023', '2022', '2021', '2020', '2019']\n",
      "\n",
      "Cuplikan data:\n",
      "           Unnamed: 0                   2024                   2023  \\\n",
      "0  Aset Non Investasi    41.280.026.993.914     40.439.235.781.192    \n",
      "1      Aset Investasi   356.297.037.280.697    336.546.736.507.695    \n",
      "2            Deposito    72.548.141.446.060     46.030.507.000.000    \n",
      "3               Saham    12.661.883.183.200     15.064.505.449.137    \n",
      "4          Reksa Dana    22.158.998.452.824     27.004.209.841.471    \n",
      "5            Obligasi   185.976.378.709.331    183.979.814.824.707    \n",
      "6               Sukuk    52.398.427.105.755     52.538.398.423.536    \n",
      "7                 MTN     3.472.688.997.995      5.310.965.008.500    \n",
      "8                SRBI        23.335.250.000                    -      \n",
      "9             KIK-EBA       577.649.528.905        723.742.454.783    \n",
      "\n",
      "                    2022                   2021                   2020  \\\n",
      "0    35.718.351.917.994     13.522.964.169.302     12.455.900.825.554    \n",
      "1   309.951.287.818.183    293.208.531.304.979    274.939.160.444.203    \n",
      "2    40.780.679.800.000     49.546.458.603.831     46.648.836.097.085    \n",
      "3    12.006.222.958.876     14.859.793.049.448     17.143.598.200.417    \n",
      "4    21.605.792.322.926     24.187.556.532.348     21.218.020.335.042    \n",
      "5   172.433.861.713.558    147.732.069.122.065    149.870.000.245.760    \n",
      "6    51.022.610.798.607     45.348.632.870.739     29.454.474.644.278    \n",
      "7     5.518.648.011.500      4.656.934.217.108      3.586.266.463.500    \n",
      "8                   -                      -                      -      \n",
      "9     1.250.337.846.613      1.474.905.825.775      2.130.136.668.451    \n",
      "\n",
      "                    2019  \n",
      "0     9.931.936.771.794   \n",
      "1   253.321.566.937.984   \n",
      "2    47.144.501.993.254   \n",
      "3    12.324.558.260.717   \n",
      "4    18.510.185.165.150   \n",
      "5   134.015.805.806.133   \n",
      "6    29.401.817.994.659   \n",
      "7     4.080.000.000.000   \n",
      "8                   -     \n",
      "9     2.766.782.581.116   \n"
     ]
    }
   ],
   "source": [
    "import pandas as pd\n",
    "\n",
    "file_path = \"LK_konsol_2019_2024.csv\"\n",
    "\n",
    "# Baca CSV dengan delimiter titik koma dan hilangkan spasi berlebih\n",
    "df = pd.read_csv(file_path, sep=';', engine='python')\n",
    "df.columns = df.columns.str.strip()  # bersihkan spasi di nama kolom\n",
    "\n",
    "# Tampilkan ringkasan\n",
    "print(\"Jumlah baris dan kolom:\", df.shape)\n",
    "print(\"\\nKolom yang tersedia:\", df.columns.tolist())\n",
    "\n",
    "# Tampilkan 10 baris pertama\n",
    "pd.set_option('display.float_format', '{:,.0f}'.format)\n",
    "print(\"\\nCuplikan data:\")\n",
    "print(df.head(10))\n"
   ]
  },
  {
   "cell_type": "markdown",
   "id": "285c3319",
   "metadata": {},
   "source": [
    "### Laporan Laba Rugi"
   ]
  },
  {
   "cell_type": "code",
   "execution_count": 5,
   "id": "4e2df3e8",
   "metadata": {},
   "outputs": [
    {
     "name": "stdout",
     "output_type": "stream",
     "text": [
      "Jumlah baris dan kolom: (13, 7)\n",
      "\n",
      "Kolom yang tersedia: ['Unnamed: 0', '2024', '2023', '2022', '2021', '2020', '2019']\n",
      "\n",
      "Cuplikan data:\n",
      "                         Unnamed: 0                  2024  \\\n",
      "0          Pendapatan Non Investasi   10.411.749.661.628    \n",
      "1              Pendapatan Investasi    9.011.566.535.853    \n",
      "2                  Total Pendapatan   19.423.316.197.481    \n",
      "3     Jumlah beban klaim dan mafaat    16.333.036.580.042   \n",
      "4                  Beban investasi         10.210.737.093   \n",
      "5               Beban non investasi    1.800.911.448.894    \n",
      "6  Jumlah beban usaha entitas induk    1.811.122.185.987    \n",
      "7          Beban usaha entitas anak       288.538.141.918   \n",
      "8                Jumlah beban usaha    2.099.660.327.905    \n",
      "9           Penggantian BOP Pensiun      -662.738.398.520   \n",
      "\n",
      "                   2023                  2022                  2021  \\\n",
      "0   13.644.235.295.100    32.228.013.336.969    10.657.824.909.555    \n",
      "1    8.487.018.199.018     9.027.881.205.692     9.776.555.299.210    \n",
      "2   22.131.253.494.118    41.255.894.542.661    20.434.380.208.765    \n",
      "3    19.513.835.115.475   39.871.451.251.439    18.823.948.652.955    \n",
      "4         8.297.019.837        9.244.011.924        14.780.628.011    \n",
      "5    1.848.101.445.335     1.336.987.166.447     1.397.932.217.509    \n",
      "6    1.856.398.465.172     1.346.231.178.371     1.412.712.845.520    \n",
      "7      273.332.523.179       256.316.059.679       365.907.073.327    \n",
      "8    2.129.730.988.351     1.602.547.238.050     1.778.619.918.847    \n",
      "9      -663.225.545.088      -613.598.918.605      -682.357.077.280   \n",
      "\n",
      "                   2020                  2019  \n",
      "0    9.767.986.602.823    10.187.746.344.771   \n",
      "1    9.830.261.291.239     9.114.596.578.354   \n",
      "2   19.598.247.894.062    19.302.342.923.125   \n",
      "3   17.607.663.271.726    17.715.907.447.323   \n",
      "4       25.880.383.944        16.558.453.338   \n",
      "5    1.465.477.177.177     1.436.122.091.746   \n",
      "6    1.491.357.561.121     1.452.680.545.084   \n",
      "7      214.429.357.697       245.226.187.865   \n",
      "8    1.705.786.918.818     1.697.906.732.949   \n",
      "9      -656.428.980.404      -717.538.351.455  \n"
     ]
    }
   ],
   "source": [
    "import pandas as pd\n",
    "\n",
    "file_path = \"LLR_2019_2024.csv\"\n",
    "\n",
    "# Baca CSV dengan delimiter titik koma dan hilangkan spasi berlebih\n",
    "df = pd.read_csv(file_path, sep=';', engine='python')\n",
    "df.columns = df.columns.str.strip()  # bersihkan spasi di nama kolom\n",
    "\n",
    "# Tampilkan ringkasan\n",
    "print(\"Jumlah baris dan kolom:\", df.shape)\n",
    "print(\"\\nKolom yang tersedia:\", df.columns.tolist())\n",
    "\n",
    "# Tampilkan 10 baris pertama\n",
    "pd.set_option('display.float_format', '{:,.0f}'.format)\n",
    "print(\"\\nCuplikan data:\")\n",
    "print(df.head(10))\n"
   ]
  },
  {
   "cell_type": "markdown",
   "id": "065b97de",
   "metadata": {},
   "source": [
    "### Laporan Arus Kas"
   ]
  },
  {
   "cell_type": "code",
   "execution_count": 6,
   "id": "4011ce2a",
   "metadata": {},
   "outputs": [
    {
     "name": "stdout",
     "output_type": "stream",
     "text": [
      "Jumlah baris dan kolom: (6, 7)\n",
      "\n",
      "Kolom yang tersedia: ['Unnamed: 0', '2024', '2023', '2022', '2021', '2020', '2019']\n",
      "\n",
      "Cuplikan data:\n",
      "                                       Unnamed: 0                  2024  \\\n",
      "0          Arus Kas Bersih dari Kegiatan Operasi    18.537.196.660.808    \n",
      "1        Arus Kas Bersih dari Kegiatan Investasi    -18.536.413.896.270   \n",
      "2         Arus Kas Bersih dari Kegiatan Pendanaan          534.118.523    \n",
      "3  Kenaikan (Penurunan) Bersih Kas dan Setara Kas        1.316.883.061    \n",
      "4            Kas dan Setara Kas pada Awal Periode       32.516.548.394    \n",
      "5           Kas dan Setara Kas pada Akhir Periode       33.833.431.455    \n",
      "\n",
      "                   2023                  2022                  2021  \\\n",
      "0   14.911.028.297.326    13.264.371.674.898    14.263.407.677.434    \n",
      "1   -15.134.676.775.331   -13.848.919.922.316   -13.482.495.960.861   \n",
      "2        3.347.623.351         -3.785.432.589       32.238.215.858    \n",
      "3     (220.300.854.654)     (588.333.680.007)      813.149.932.431    \n",
      "4      252.817.403.048       841.151.083.055        28.001.150.624    \n",
      "5       32.516.548.394       252.817.403.048       841.151.083.055    \n",
      "\n",
      "                  2020                  2019  \n",
      "0   5.637.485.325.455    21.327.783.779.851   \n",
      "1  -13.482.495.960.861   -13.482.495.960.861  \n",
      "2       -7.138.307.196                  -     \n",
      "3       -3.846.512.882       -40.667.356.056  \n",
      "4      31.847.663.506        72.515.019.562   \n",
      "5      28.001.150.624        31.847.663.506   \n"
     ]
    }
   ],
   "source": [
    "import pandas as pd\n",
    "\n",
    "file_path = \"LAK_2019_2024.csv\"\n",
    "\n",
    "# Baca CSV dengan delimiter titik koma dan hilangkan spasi berlebih\n",
    "df = pd.read_csv(file_path, sep=';', engine='python')\n",
    "df.columns = df.columns.str.strip()  # bersihkan spasi di nama kolom\n",
    "\n",
    "# Tampilkan ringkasan\n",
    "print(\"Jumlah baris dan kolom:\", df.shape)\n",
    "print(\"\\nKolom yang tersedia:\", df.columns.tolist())\n",
    "\n",
    "# Tampilkan 10 baris pertama\n",
    "pd.set_option('display.float_format', '{:,.0f}'.format)\n",
    "print(\"\\nCuplikan data:\")\n",
    "print(df.head(10))\n"
   ]
  }
 ],
 "metadata": {
  "kernelspec": {
   "display_name": "Python 3",
   "language": "python",
   "name": "python3"
  },
  "language_info": {
   "codemirror_mode": {
    "name": "ipython",
    "version": 3
   },
   "file_extension": ".py",
   "mimetype": "text/x-python",
   "name": "python",
   "nbconvert_exporter": "python",
   "pygments_lexer": "ipython3",
   "version": "3.12.1"
  }
 },
 "nbformat": 4,
 "nbformat_minor": 5
}
