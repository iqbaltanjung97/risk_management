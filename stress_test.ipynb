{
 "cells": [
  {
   "cell_type": "markdown",
   "id": "ac596268",
   "metadata": {},
   "source": [
    "### Laporan Keuangan Konsolidasian"
   ]
  },
  {
   "cell_type": "code",
   "execution_count": null,
   "id": "f579123a",
   "metadata": {
    "vscode": {
     "languageId": "plaintext"
    }
   },
   "outputs": [],
   "source": []
  },
  {
   "cell_type": "markdown",
   "id": "285c3319",
   "metadata": {},
   "source": [
    "### Laporan Laba Rugi"
   ]
  },
  {
   "cell_type": "code",
   "execution_count": null,
   "id": "4e2df3e8",
   "metadata": {
    "vscode": {
     "languageId": "plaintext"
    }
   },
   "outputs": [],
   "source": []
  },
  {
   "cell_type": "markdown",
   "id": "065b97de",
   "metadata": {},
   "source": [
    "### Laporan Arus Kas"
   ]
  },
  {
   "cell_type": "code",
   "execution_count": null,
   "id": "4011ce2a",
   "metadata": {
    "vscode": {
     "languageId": "plaintext"
    }
   },
   "outputs": [],
   "source": []
  }
 ],
 "metadata": {
  "language_info": {
   "name": "python"
  }
 },
 "nbformat": 4,
 "nbformat_minor": 5
}
